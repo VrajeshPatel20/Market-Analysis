{
  "nbformat": 4,
  "nbformat_minor": 0,
  "metadata": {
    "colab": {
      "name": "AnalyzePosts.ipynb",
      "provenance": []
    },
    "kernelspec": {
      "name": "python3",
      "display_name": "Python 3"
    },
    "language_info": {
      "name": "python"
    }
  },
  "cells": [
    {
      "cell_type": "code",
      "metadata": {
        "colab": {
          "base_uri": "https://localhost:8080/"
        },
        "id": "8iiw3Fd4OAdy",
        "outputId": "530d11e5-9471-42a3-ae03-4604e4ed45f6"
      },
      "source": [
        "###################### Install all necessary libraries #########################\n",
        "\n",
        "from google.colab import files\n",
        "!pip install praw -q\n",
        "!pip install yfinance --upgrade --no-cache-dir -q\n",
        "!pip install yahoo_fin -q\n",
        "!pip install yahoo_fin --upgrade -q\n",
        "!pip install requests_html -q\n",
        "!pip install mpld3 -q\n",
        "!pip install fastapi -q\n",
        "!pip install colabcode -q\n",
        "\n",
        "################################################################################"
      ],
      "execution_count": null,
      "outputs": [
        {
          "output_type": "stream",
          "text": [
            "\u001b[K     |████████████████████████████████| 163kB 8.0MB/s \n",
            "\u001b[K     |████████████████████████████████| 61kB 4.3MB/s \n",
            "\u001b[K     |████████████████████████████████| 6.3MB 12.2MB/s \n",
            "\u001b[?25h  Building wheel for yfinance (setup.py) ... \u001b[?25l\u001b[?25hdone\n",
            "\u001b[K     |████████████████████████████████| 81kB 4.8MB/s \n",
            "\u001b[K     |████████████████████████████████| 92kB 4.9MB/s \n",
            "\u001b[K     |████████████████████████████████| 81kB 4.7MB/s \n",
            "\u001b[K     |████████████████████████████████| 81kB 6.2MB/s \n",
            "\u001b[?25h  Building wheel for parse (setup.py) ... \u001b[?25l\u001b[?25hdone\n",
            "  Building wheel for fake-useragent (setup.py) ... \u001b[?25l\u001b[?25hdone\n",
            "  Building wheel for sgmllib3k (setup.py) ... \u001b[?25l\u001b[?25hdone\n",
            "\u001b[31mERROR: pyppeteer 0.2.5 has requirement urllib3<2.0.0,>=1.25.8, but you'll have urllib3 1.24.3 which is incompatible.\u001b[0m\n",
            "\u001b[K     |████████████████████████████████| 890kB 9.4MB/s \n",
            "\u001b[?25h  Building wheel for mpld3 (setup.py) ... \u001b[?25l\u001b[?25hdone\n",
            "\u001b[K     |████████████████████████████████| 51kB 3.2MB/s \n",
            "\u001b[K     |████████████████████████████████| 10.1MB 11.6MB/s \n",
            "\u001b[K     |████████████████████████████████| 61kB 5.2MB/s \n",
            "\u001b[K     |████████████████████████████████| 51kB 3.2MB/s \n",
            "\u001b[K     |████████████████████████████████| 8.3MB 7.6MB/s \n",
            "\u001b[K     |████████████████████████████████| 747kB 43.9MB/s \n",
            "\u001b[K     |████████████████████████████████| 61kB 6.6MB/s \n",
            "\u001b[K     |████████████████████████████████| 378kB 36.0MB/s \n",
            "\u001b[K     |████████████████████████████████| 430kB 42.2MB/s \n",
            "\u001b[K     |████████████████████████████████| 51kB 4.6MB/s \n",
            "\u001b[K     |████████████████████████████████| 122kB 44.7MB/s \n",
            "\u001b[K     |████████████████████████████████| 71kB 4.0MB/s \n",
            "\u001b[K     |████████████████████████████████| 61kB 5.5MB/s \n",
            "\u001b[?25h  Building wheel for pyngrok (setup.py) ... \u001b[?25l\u001b[?25hdone\n",
            "\u001b[31mERROR: google-colab 1.0.0 has requirement tornado~=5.1.0; python_version >= \"3.0\", but you'll have tornado 6.1 which is incompatible.\u001b[0m\n"
          ],
          "name": "stdout"
        }
      ]
    },
    {
      "cell_type": "code",
      "metadata": {
        "id": "_JGW_rbsOAbj"
      },
      "source": [
        "#########################################  DATA REQUESTS #############################################\n",
        "\n",
        "# To provide current date and time in an format understandable by our API\n",
        "from datetime import datetime \n",
        "from datetime import timedelta\n",
        "# Properly display html docs before we could work on it\n",
        "from lxml import html \n",
        "# Requests HTML data from websites and api \n",
        "import requests \n",
        "from requests import Request, Session\n",
        "\n",
        "# Connecting with an API without any exceptions\n",
        "from requests.exceptions import ConnectionError, Timeout, TooManyRedirects \n",
        "\n",
        "# Clean the result from API's\n",
        "import json  \n",
        "from bs4 import BeautifulSoup\n",
        "\n",
        "##########################################  DATA MINING ##############################################\n",
        "\n",
        "# To get posts from reddit\n",
        "import praw\n",
        "\n",
        "# To get the current stock prices\n",
        "import yfinance as yf  \n",
        "from yahoo_fin.stock_info import get_data\n",
        "\n",
        "# Connect to twitter API\n",
        "from tweepy import OAuthHandler\n",
        "from tweepy.streaming import StreamListener\n",
        "import tweepy\n",
        "\n",
        "from urllib.request import urlopen\n",
        "\n",
        "# Library to set up email alerts \n",
        "import smtplib\n",
        "\n",
        "#######################################  DATA MANIPULATION ###########################################\n",
        "\n",
        "import numpy as np\n",
        "import pandas as pd\n",
        "import csv\n",
        "import re\n",
        "from textblob import TextBlob\n",
        "import string\n",
        "import os\n",
        "import time\n",
        "\n",
        "#######################################  DATA VISUALIZATION ###########################################\n",
        " \n",
        "import plotly.express as px \n",
        "import plotly.graph_objects as go\n",
        "import matplotlib.pylab as plt\n",
        "%matplotlib inline\n",
        "import seaborn as sns\n",
        "import plotly.figure_factory as ff\n",
        "from plotly.offline import download_plotlyjs, init_notebook_mode, plot, iplot\n",
        "import mpld3\n",
        "import plotly\n",
        "\n",
        "########################################### DATA TRANSFER ############################################\n",
        "\n",
        "from fastapi import FastAPI\n",
        "from colabcode import ColabCode \n",
        "\n",
        "#######################################################################################################"
      ],
      "execution_count": null,
      "outputs": []
    },
    {
      "cell_type": "code",
      "metadata": {
        "id": "tEFZ9FdpN4kW"
      },
      "source": [
        "# To get the number of posts of a stock subreddit we choose \n",
        "def Analyze_Reddit_Posts(stocks,df, common_words):\n",
        "    \"\"\"\n",
        "    Count the total occurences and upvotes of every stock on reddit by \n",
        "    crossreferencing it with the DataFrame of reddit post we retreived earlier.\n",
        "\n",
        "    Parameters\n",
        "    ----------\n",
        "    stocks       : pd.DataFrame\n",
        "    df           : pd.DataFrame\n",
        "    common_words : list\n",
        "\n",
        "    Returns\n",
        "    -------\n",
        "    pd.DataFrame\n",
        "    \"\"\"\n",
        "    ############################ Analyze Reddit Posts ##########################\n",
        "\n",
        "    result = [] \n",
        "    \n",
        "    for stock in stocks.itertuples():\n",
        "      sum ,count = 0, 0\n",
        "      stock_ = stock.Stock_Name\n",
        "      for item in df.itertuples():\n",
        "\n",
        "        # If the stock name occurred in either Title or Content of the post \n",
        "        if stock_ in item.Title or stock_ in item.Content:\n",
        "          sum = sum + item.Upvotes\n",
        "          count = count + 1\n",
        "    \n",
        "      # Append data if the stock:\n",
        "      #                           Occurred More than once\n",
        "      #                           Not a common word \n",
        "      #                           The name is of len > 4\n",
        "\n",
        "      if count > 0 and len(stock.Stock_Name)>4 and stock_ not in common_words:\n",
        "        result.append({'Stock_Name' : stock.Stock_Name,\n",
        "                       'Ticker' : stock.Ticker,\n",
        "                       'Number_Of_Occurences' : count,\n",
        "                       'Total_Upvotes' : sum})\n",
        "    \n",
        "    ############################################################################\n",
        "\n",
        "    return pd.DataFrame(result)"
      ],
      "execution_count": null,
      "outputs": []
    },
    {
      "cell_type": "code",
      "metadata": {
        "id": "8GeBb3E-OBTT"
      },
      "source": [
        "# To get the number of posts of a stock subreddit we choose \n",
        "def Analyze_Reddit_Crypto(cryptos,df, common_words):\n",
        "    \"\"\"\n",
        "    Count the total occurences and upvotes of every crypto on reddit by \n",
        "    crossreferencing it with the DataFrame of reddit post we retreived earlier.\n",
        "\n",
        "    Parameters\n",
        "    ----------\n",
        "    cryptos      : pd.DataFrame\n",
        "    df           : pd.DataFrame\n",
        "    common_words : list\n",
        "\n",
        "    Returns\n",
        "    -------\n",
        "    pd.DataFrame\n",
        "    \"\"\"\n",
        "    ############################ Analyze Reddit Posts ##########################\n",
        "\n",
        "    result = [] \n",
        "    \n",
        "    for crypto in cryptos.itertuples():\n",
        "      sum ,count = 0, 0\n",
        "      crypto_ = crypto.Name\n",
        "      for item in df.itertuples():\n",
        "\n",
        "        # If the stock name occurred in either Title or Content of the post \n",
        "        if crypto_ in item.Title or crypto_ in item.Content:\n",
        "          sum = sum + item.Upvotes\n",
        "          count = count + 1\n",
        "    \n",
        "      # Append data if the stock:\n",
        "      #                           Occurred More than once\n",
        "      #                           Not a common word \n",
        "      #                           The name is of len > 4\n",
        "\n",
        "      if count > 0 and len(crypto_)>4 and crypto_ not in common_words:\n",
        "        result.append({'Name' : crypto_,\n",
        "                       'Symbol' : crypto.Symbol,\n",
        "                       'Number_Of_Occurences' : count,\n",
        "                       'Total_Upvotes' : sum})\n",
        "    \n",
        "    ############################################################################\n",
        "\n",
        "    return pd.DataFrame(result)"
      ],
      "execution_count": null,
      "outputs": []
    },
    {
      "cell_type": "code",
      "metadata": {
        "id": "9WhELdX5OBQg"
      },
      "source": [
        "def Analyze_tweets(stocks, df, common_words):\n",
        "    \"\"\"\n",
        "    Count the total occurences and retweets of every stock on twitter by \n",
        "    crossreferencing it with the DataFrame of tweets we retreived earlier.\n",
        "\n",
        "    Parameters\n",
        "    ----------\n",
        "    stocks       : pd.DataFrame\n",
        "    df           : pd.DataFrame\n",
        "    common_words : list\n",
        "\n",
        "    Returns\n",
        "    -------\n",
        "    pd.DataFrame\n",
        "    \"\"\"\n",
        "    ############################### Analyze Tweets #############################\n",
        "    \n",
        "    result = []\n",
        "    for stock in stocks.iterrows():\n",
        "      sum, count = 0, 0\n",
        "      stock_ = stock[1]['Stock_Name']\n",
        "      for item in df.itertuples():\n",
        "        if stock_ in item.text:\n",
        "          sum = sum + item.retweet_count\n",
        "          count = count + 1\n",
        "      \n",
        "      # Append data if the stock:\n",
        "      #                           Occurred More than once\n",
        "      #                           Not a common word \n",
        "      #                           The name is of len > 4\n",
        "\n",
        "      if count > 0 and len(stock_) > 4 and stock_ not in common_words:\n",
        "        result.append({'Stock_Name' : stock_, \n",
        "                       'Ticker': stock[1]['Ticker'], \n",
        "                       'Number_Of_Occurences' : count, \n",
        "                       'Total_retweets' : sum})\n",
        "        \n",
        "    ############################################################################\n",
        "    return pd.DataFrame(result)"
      ],
      "execution_count": null,
      "outputs": []
    },
    {
      "cell_type": "code",
      "metadata": {
        "id": "6RMzFNEGOBN6"
      },
      "source": [
        "# To get the number of posts of a stock subreddit we choose \n",
        "def Analyze_Tweets_Crypto(cryptos,df, common_words):\n",
        "    \"\"\"\n",
        "    Count the total occurences and upvotes of every crypto on reddit by \n",
        "    crossreferencing it with the DataFrame of reddit post we retreived earlier.\n",
        "\n",
        "    Parameters\n",
        "    ----------\n",
        "    cryptos      : pd.DataFrame\n",
        "    df           : pd.DataFrame\n",
        "    common_words : list\n",
        "\n",
        "    Returns\n",
        "    -------\n",
        "    pd.DataFrame\n",
        "    \"\"\"\n",
        "    ############################ Analyze Reddit Posts ##########################\n",
        "\n",
        "    result = [] \n",
        "    \n",
        "    for crypto in cryptos.itertuples():\n",
        "      sum ,count = 0, 0\n",
        "      crypto_ = crypto.Name\n",
        "      for item in df.itertuples():\n",
        "\n",
        "        # If the stock name occurred in either Title or Content of the post \n",
        "        if crypto_ in item.text:\n",
        "          sum = sum + item.retweet_count\n",
        "          count = count + 1\n",
        "    \n",
        "      # Append data if the stock:\n",
        "      #                           Occurred More than once\n",
        "      #                           Not a common word \n",
        "      #                           The name is of len > 4\n",
        "\n",
        "      if count > 0 and len(crypto_)>4 and crypto_ not in common_words:\n",
        "        result.append({'Name' : crypto_,\n",
        "                       'Symbol' : crypto.Symbol,\n",
        "                       'Number_Of_Occurences' : count,\n",
        "                       'Total_Retweets' : sum})\n",
        "    \n",
        "    ############################################################################\n",
        "\n",
        "    return pd.DataFrame(result)"
      ],
      "execution_count": null,
      "outputs": []
    },
    {
      "cell_type": "code",
      "metadata": {
        "id": "48d3Lo7mOBLb"
      },
      "source": [
        ""
      ],
      "execution_count": null,
      "outputs": []
    },
    {
      "cell_type": "code",
      "metadata": {
        "id": "bRU2lAM_OBJB"
      },
      "source": [
        ""
      ],
      "execution_count": null,
      "outputs": []
    },
    {
      "cell_type": "code",
      "metadata": {
        "id": "dfPg5ph4OBGZ"
      },
      "source": [
        ""
      ],
      "execution_count": null,
      "outputs": []
    },
    {
      "cell_type": "code",
      "metadata": {
        "id": "QN3QIo5jOBD5"
      },
      "source": [
        ""
      ],
      "execution_count": null,
      "outputs": []
    },
    {
      "cell_type": "code",
      "metadata": {
        "id": "cQ_-gbZsOBBS"
      },
      "source": [
        ""
      ],
      "execution_count": null,
      "outputs": []
    }
  ]
}